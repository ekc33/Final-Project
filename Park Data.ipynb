{
 "cells": [
  {
   "cell_type": "code",
   "execution_count": 2,
   "id": "85f64225-1521-483e-9701-b9baaa42b443",
   "metadata": {},
   "outputs": [
    {
     "data": {
      "image/png": "[encoded data removed]",
      "text/plain": [
       "<Figure size 432x288 with 1 Axes>"
      ]
     },
     "metadata": {
      "needs_background": "light"
     },
     "output_type": "display_data"
    }
   ],
   "source": [
    "import pandas as pd\n",
    "parks = pd.read_csv(\"park_data.csv\")\n",
    "\n",
    "parks = parks[(parks[\"type\"] == \"Park\") | (parks[\"type\"] == \"Open Space\")]\n",
    "pd.set_option('display.max_columns', None)\n",
    "parks.head(210)\n",
    "\n",
    "parks = pd.read_csv(\"park_data.csv\")\n",
    "parks = parks[(parks[\"type\"] == \"Park\") | (parks[\"type\"] == \"Open Space\")]\n",
    "count = parks[\"neighborhood\"].value_counts()\n",
    "count\n",
    "\n",
    "import matplotlib.pyplot as plotter\n",
    "\n",
    "import numpy as np\n",
    "\n",
    "objectTypes     = ('Mount Washington', 'Hazelwood', 'Troy Hill', 'South Side Slopes', 'Beechview')\n",
    "yAxisCategories = np.arange(len(objectTypes))\n",
    "objectCount     = (5, 5, 5, 6, 6)\n",
    "stdDeviation    = (0, 0, 0, 0, 0) \n",
    "\n",
    "figureObject, axesObject    = plotter.subplots()\n",
    "\n",
    "hBarChart                   = plotter.barh(yAxisCategories,\n",
    "\n",
    "                                           objectCount,\n",
    "\n",
    "                                           xerr=stdDeviation,\n",
    "\n",
    "                                           align='center',\n",
    "\n",
    "                                           color='red',\n",
    "\n",
    "                                           ecolor='blue')\n",
    "\n",
    "axesObject.set_title('Amount of parks/open space in Pittsburgh per city')\n",
    "\n",
    "axesObject.set_yticks(yAxisCategories)\n",
    "\n",
    "axesObject.set_yticklabels(objectTypes)\n",
    "\n",
    "axesObject.set_xlabel('Park Count')\n",
    "\n",
    " \n",
    "\n",
    "plotter.show()"
   ]
  },
  {
   "cell_type": "code",
   "execution_count": null,
   "id": "678d7b79-0cea-4e62-a790-e81ebd30b153",
   "metadata": {},
   "outputs": [],
   "source": []
  }
 ],
 "metadata": {
  "kernelspec": {
   "display_name": "Python 3 (ipykernel)",
   "language": "python",
   "name": "python3"
  },
  "language_info": {
   "codemirror_mode": {
    "name": "ipython",
    "version": 3
   },
   "file_extension": ".py",
   "mimetype": "text/x-python",
   "name": "python",
   "nbconvert_exporter": "python",
   "pygments_lexer": "ipython3",
   "version": "3.7.10"
  }
 },
 "nbformat": 4,
 "nbformat_minor": 5
}
